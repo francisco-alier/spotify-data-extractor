{
 "cells": [
  {
   "cell_type": "markdown",
   "metadata": {},
   "source": [
    "# Streaming History analysis"
   ]
  },
  {
   "cell_type": "markdown",
   "metadata": {},
   "source": [
    "## 0. Import data and packages"
   ]
  },
  {
   "cell_type": "code",
   "execution_count": 108,
   "metadata": {},
   "outputs": [],
   "source": [
    "import numpy as np\n",
    "import pandas as pd\n",
    "import os\n",
    "import matplotlib.pyplot as plt\n",
    "import seaborn as sns\n",
    "import datetime\n",
    "\n",
    "pd.set_option('display.max_columns', None)"
   ]
  },
  {
   "cell_type": "code",
   "execution_count": 109,
   "metadata": {},
   "outputs": [],
   "source": [
    "df = pd.read_csv(r'./data/streaming_data_clean.csv')"
   ]
  },
  {
   "cell_type": "code",
   "execution_count": 110,
   "metadata": {},
   "outputs": [
    {
     "data": {
      "text/html": [
       "<div>\n",
       "<style scoped>\n",
       "    .dataframe tbody tr th:only-of-type {\n",
       "        vertical-align: middle;\n",
       "    }\n",
       "\n",
       "    .dataframe tbody tr th {\n",
       "        vertical-align: top;\n",
       "    }\n",
       "\n",
       "    .dataframe thead th {\n",
       "        text-align: right;\n",
       "    }\n",
       "</style>\n",
       "<table border=\"1\" class=\"dataframe\">\n",
       "  <thead>\n",
       "    <tr style=\"text-align: right;\">\n",
       "      <th></th>\n",
       "      <th>Unnamed: 0</th>\n",
       "      <th>endTime</th>\n",
       "      <th>artistName</th>\n",
       "      <th>trackName</th>\n",
       "      <th>msPlayed</th>\n",
       "      <th>danceability</th>\n",
       "      <th>energy</th>\n",
       "      <th>key</th>\n",
       "      <th>loudness</th>\n",
       "      <th>mode</th>\n",
       "      <th>speechiness</th>\n",
       "      <th>acousticness</th>\n",
       "      <th>instrumentalness</th>\n",
       "      <th>liveness</th>\n",
       "      <th>valence</th>\n",
       "      <th>tempo</th>\n",
       "      <th>type</th>\n",
       "      <th>id</th>\n",
       "      <th>uri</th>\n",
       "      <th>track_href</th>\n",
       "      <th>analysis_url</th>\n",
       "      <th>duration_ms</th>\n",
       "      <th>time_signature</th>\n",
       "      <th>explicit</th>\n",
       "      <th>popularity</th>\n",
       "    </tr>\n",
       "  </thead>\n",
       "  <tbody>\n",
       "    <tr>\n",
       "      <th>0</th>\n",
       "      <td>0</td>\n",
       "      <td>2019-12-28 18:17</td>\n",
       "      <td>Ghost</td>\n",
       "      <td>Cirice</td>\n",
       "      <td>113840</td>\n",
       "      <td>0.555</td>\n",
       "      <td>0.798</td>\n",
       "      <td>3.0</td>\n",
       "      <td>-5.658</td>\n",
       "      <td>1.0</td>\n",
       "      <td>0.0279</td>\n",
       "      <td>0.002540</td>\n",
       "      <td>0.000015</td>\n",
       "      <td>0.1710</td>\n",
       "      <td>0.284</td>\n",
       "      <td>89.987</td>\n",
       "      <td>audio_features</td>\n",
       "      <td>3ZXZ9RMsznqgyHnyq0K5FL</td>\n",
       "      <td>spotify:track:3ZXZ9RMsznqgyHnyq0K5FL</td>\n",
       "      <td>https://api.spotify.com/v1/tracks/3ZXZ9RMsznqg...</td>\n",
       "      <td>https://api.spotify.com/v1/audio-analysis/3ZXZ...</td>\n",
       "      <td>362093.0</td>\n",
       "      <td>4.0</td>\n",
       "      <td>False</td>\n",
       "      <td>57.0</td>\n",
       "    </tr>\n",
       "    <tr>\n",
       "      <th>1</th>\n",
       "      <td>1</td>\n",
       "      <td>2019-12-29 12:57</td>\n",
       "      <td>Ghost</td>\n",
       "      <td>Year Zero</td>\n",
       "      <td>6976</td>\n",
       "      <td>0.469</td>\n",
       "      <td>0.705</td>\n",
       "      <td>7.0</td>\n",
       "      <td>-5.134</td>\n",
       "      <td>1.0</td>\n",
       "      <td>0.0458</td>\n",
       "      <td>0.030400</td>\n",
       "      <td>0.015500</td>\n",
       "      <td>0.6590</td>\n",
       "      <td>0.137</td>\n",
       "      <td>122.025</td>\n",
       "      <td>audio_features</td>\n",
       "      <td>1YBf7Tq9bpcVwvnlP8YbQS</td>\n",
       "      <td>spotify:track:1YBf7Tq9bpcVwvnlP8YbQS</td>\n",
       "      <td>https://api.spotify.com/v1/tracks/1YBf7Tq9bpcV...</td>\n",
       "      <td>https://api.spotify.com/v1/audio-analysis/1YBf...</td>\n",
       "      <td>350187.0</td>\n",
       "      <td>4.0</td>\n",
       "      <td>True</td>\n",
       "      <td>53.0</td>\n",
       "    </tr>\n",
       "    <tr>\n",
       "      <th>2</th>\n",
       "      <td>2</td>\n",
       "      <td>2019-12-29 12:58</td>\n",
       "      <td>Rise Against</td>\n",
       "      <td>Intro/Chamber The Cartridge</td>\n",
       "      <td>33215</td>\n",
       "      <td>0.234</td>\n",
       "      <td>0.994</td>\n",
       "      <td>8.0</td>\n",
       "      <td>-4.037</td>\n",
       "      <td>1.0</td>\n",
       "      <td>0.3810</td>\n",
       "      <td>0.000340</td>\n",
       "      <td>0.000121</td>\n",
       "      <td>0.6730</td>\n",
       "      <td>0.194</td>\n",
       "      <td>164.397</td>\n",
       "      <td>audio_features</td>\n",
       "      <td>0aHUJdrNRAVrrdDyUwHYn6</td>\n",
       "      <td>spotify:track:0aHUJdrNRAVrrdDyUwHYn6</td>\n",
       "      <td>https://api.spotify.com/v1/tracks/0aHUJdrNRAVr...</td>\n",
       "      <td>https://api.spotify.com/v1/audio-analysis/0aHU...</td>\n",
       "      <td>214907.0</td>\n",
       "      <td>4.0</td>\n",
       "      <td>False</td>\n",
       "      <td>34.0</td>\n",
       "    </tr>\n",
       "    <tr>\n",
       "      <th>3</th>\n",
       "      <td>3</td>\n",
       "      <td>2019-12-29 12:58</td>\n",
       "      <td>Rise Against</td>\n",
       "      <td>Intro/Chamber The Cartridge</td>\n",
       "      <td>860</td>\n",
       "      <td>0.234</td>\n",
       "      <td>0.994</td>\n",
       "      <td>8.0</td>\n",
       "      <td>-4.037</td>\n",
       "      <td>1.0</td>\n",
       "      <td>0.3810</td>\n",
       "      <td>0.000340</td>\n",
       "      <td>0.000121</td>\n",
       "      <td>0.6730</td>\n",
       "      <td>0.194</td>\n",
       "      <td>164.397</td>\n",
       "      <td>audio_features</td>\n",
       "      <td>0aHUJdrNRAVrrdDyUwHYn6</td>\n",
       "      <td>spotify:track:0aHUJdrNRAVrrdDyUwHYn6</td>\n",
       "      <td>https://api.spotify.com/v1/tracks/0aHUJdrNRAVr...</td>\n",
       "      <td>https://api.spotify.com/v1/audio-analysis/0aHU...</td>\n",
       "      <td>214907.0</td>\n",
       "      <td>4.0</td>\n",
       "      <td>False</td>\n",
       "      <td>34.0</td>\n",
       "    </tr>\n",
       "    <tr>\n",
       "      <th>4</th>\n",
       "      <td>4</td>\n",
       "      <td>2019-12-29 13:01</td>\n",
       "      <td>Rise Against</td>\n",
       "      <td>Injection</td>\n",
       "      <td>210846</td>\n",
       "      <td>0.420</td>\n",
       "      <td>0.996</td>\n",
       "      <td>8.0</td>\n",
       "      <td>-2.961</td>\n",
       "      <td>0.0</td>\n",
       "      <td>0.0804</td>\n",
       "      <td>0.000229</td>\n",
       "      <td>0.000420</td>\n",
       "      <td>0.0897</td>\n",
       "      <td>0.433</td>\n",
       "      <td>105.686</td>\n",
       "      <td>audio_features</td>\n",
       "      <td>1wVUjggKup9hP2jd24gLSg</td>\n",
       "      <td>spotify:track:1wVUjggKup9hP2jd24gLSg</td>\n",
       "      <td>https://api.spotify.com/v1/tracks/1wVUjggKup9h...</td>\n",
       "      <td>https://api.spotify.com/v1/audio-analysis/1wVU...</td>\n",
       "      <td>199213.0</td>\n",
       "      <td>4.0</td>\n",
       "      <td>False</td>\n",
       "      <td>50.0</td>\n",
       "    </tr>\n",
       "  </tbody>\n",
       "</table>\n",
       "</div>"
      ],
      "text/plain": [
       "   Unnamed: 0           endTime    artistName                    trackName  \\\n",
       "0           0  2019-12-28 18:17         Ghost                       Cirice   \n",
       "1           1  2019-12-29 12:57         Ghost                    Year Zero   \n",
       "2           2  2019-12-29 12:58  Rise Against  Intro/Chamber The Cartridge   \n",
       "3           3  2019-12-29 12:58  Rise Against  Intro/Chamber The Cartridge   \n",
       "4           4  2019-12-29 13:01  Rise Against                    Injection   \n",
       "\n",
       "   msPlayed  danceability  energy  key  loudness  mode  speechiness  \\\n",
       "0    113840         0.555   0.798  3.0    -5.658   1.0       0.0279   \n",
       "1      6976         0.469   0.705  7.0    -5.134   1.0       0.0458   \n",
       "2     33215         0.234   0.994  8.0    -4.037   1.0       0.3810   \n",
       "3       860         0.234   0.994  8.0    -4.037   1.0       0.3810   \n",
       "4    210846         0.420   0.996  8.0    -2.961   0.0       0.0804   \n",
       "\n",
       "   acousticness  instrumentalness  liveness  valence    tempo            type  \\\n",
       "0      0.002540          0.000015    0.1710    0.284   89.987  audio_features   \n",
       "1      0.030400          0.015500    0.6590    0.137  122.025  audio_features   \n",
       "2      0.000340          0.000121    0.6730    0.194  164.397  audio_features   \n",
       "3      0.000340          0.000121    0.6730    0.194  164.397  audio_features   \n",
       "4      0.000229          0.000420    0.0897    0.433  105.686  audio_features   \n",
       "\n",
       "                       id                                   uri  \\\n",
       "0  3ZXZ9RMsznqgyHnyq0K5FL  spotify:track:3ZXZ9RMsznqgyHnyq0K5FL   \n",
       "1  1YBf7Tq9bpcVwvnlP8YbQS  spotify:track:1YBf7Tq9bpcVwvnlP8YbQS   \n",
       "2  0aHUJdrNRAVrrdDyUwHYn6  spotify:track:0aHUJdrNRAVrrdDyUwHYn6   \n",
       "3  0aHUJdrNRAVrrdDyUwHYn6  spotify:track:0aHUJdrNRAVrrdDyUwHYn6   \n",
       "4  1wVUjggKup9hP2jd24gLSg  spotify:track:1wVUjggKup9hP2jd24gLSg   \n",
       "\n",
       "                                          track_href  \\\n",
       "0  https://api.spotify.com/v1/tracks/3ZXZ9RMsznqg...   \n",
       "1  https://api.spotify.com/v1/tracks/1YBf7Tq9bpcV...   \n",
       "2  https://api.spotify.com/v1/tracks/0aHUJdrNRAVr...   \n",
       "3  https://api.spotify.com/v1/tracks/0aHUJdrNRAVr...   \n",
       "4  https://api.spotify.com/v1/tracks/1wVUjggKup9h...   \n",
       "\n",
       "                                        analysis_url  duration_ms  \\\n",
       "0  https://api.spotify.com/v1/audio-analysis/3ZXZ...     362093.0   \n",
       "1  https://api.spotify.com/v1/audio-analysis/1YBf...     350187.0   \n",
       "2  https://api.spotify.com/v1/audio-analysis/0aHU...     214907.0   \n",
       "3  https://api.spotify.com/v1/audio-analysis/0aHU...     214907.0   \n",
       "4  https://api.spotify.com/v1/audio-analysis/1wVU...     199213.0   \n",
       "\n",
       "   time_signature explicit  popularity  \n",
       "0             4.0    False        57.0  \n",
       "1             4.0     True        53.0  \n",
       "2             4.0    False        34.0  \n",
       "3             4.0    False        34.0  \n",
       "4             4.0    False        50.0  "
      ]
     },
     "execution_count": 110,
     "metadata": {},
     "output_type": "execute_result"
    }
   ],
   "source": [
    "df.head()"
   ]
  },
  {
   "cell_type": "code",
   "execution_count": 111,
   "metadata": {},
   "outputs": [
    {
     "data": {
      "text/plain": [
       "(20406, 25)"
      ]
     },
     "execution_count": 111,
     "metadata": {},
     "output_type": "execute_result"
    }
   ],
   "source": [
    "df.shape"
   ]
  },
  {
   "cell_type": "markdown",
   "metadata": {},
   "source": [
    "## 1. Data Cleaning\n",
    "\n",
    "### 1.1 Remove variables\n",
    "Doing some removal of variables that don't provide any aditional insight"
   ]
  },
  {
   "cell_type": "code",
   "execution_count": 112,
   "metadata": {},
   "outputs": [
    {
     "data": {
      "text/plain": [
       "Index(['Unnamed: 0', 'endTime', 'artistName', 'trackName', 'msPlayed',\n",
       "       'danceability', 'energy', 'key', 'loudness', 'mode', 'speechiness',\n",
       "       'acousticness', 'instrumentalness', 'liveness', 'valence', 'tempo',\n",
       "       'type', 'id', 'uri', 'track_href', 'analysis_url', 'duration_ms',\n",
       "       'time_signature', 'explicit', 'popularity'],\n",
       "      dtype='object')"
      ]
     },
     "execution_count": 112,
     "metadata": {},
     "output_type": "execute_result"
    }
   ],
   "source": [
    "df.columns"
   ]
  },
  {
   "cell_type": "code",
   "execution_count": 113,
   "metadata": {},
   "outputs": [
    {
     "name": "stdout",
     "output_type": "stream",
     "text": [
      "We removed 6 variables\n"
     ]
    }
   ],
   "source": [
    "vars_exclude = ['Unnamed: 0', 'uri', 'track_href', 'analysis_url', 'type', 'id'] # all of these variables provide information with weblinks to spotify for either analysis from Spotify\n",
    "df['id_stream'] = np.arange(0, df.shape[0], 1) # make id more readable\n",
    "\n",
    "vars_keep = [var for var in df.columns if var not in vars_exclude]\n",
    "\n",
    "df_filtered = df[vars_keep]\n",
    "\n",
    "print(f\"We removed {df.shape[1] - df_filtered.shape[1]} variables\")"
   ]
  },
  {
   "cell_type": "markdown",
   "metadata": {},
   "source": [
    "### 1.2 Missing values"
   ]
  },
  {
   "cell_type": "code",
   "execution_count": 116,
   "metadata": {},
   "outputs": [
    {
     "data": {
      "text/plain": [
       "endTime                0\n",
       "artistName             0\n",
       "trackName              0\n",
       "msPlayed               0\n",
       "danceability        2002\n",
       "energy              2002\n",
       "key                 2002\n",
       "loudness            2002\n",
       "mode                2002\n",
       "speechiness         2002\n",
       "acousticness        2002\n",
       "instrumentalness    2002\n",
       "liveness            2002\n",
       "valence             2002\n",
       "tempo               2002\n",
       "duration_ms         2002\n",
       "time_signature      2002\n",
       "explicit            2002\n",
       "popularity          2002\n",
       "id_stream              0\n",
       "dtype: int64"
      ]
     },
     "execution_count": 116,
     "metadata": {},
     "output_type": "execute_result"
    }
   ],
   "source": [
    "df_filtered.isnull().sum()"
   ]
  },
  {
   "cell_type": "code",
   "execution_count": 118,
   "metadata": {},
   "outputs": [
    {
     "name": "stdout",
     "output_type": "stream",
     "text": [
      "We have 2002 streams with missing features, which accounts for 9.81% of the data\n"
     ]
    }
   ],
   "source": [
    "missing_stream_data = df_filtered['popularity'].isnull().sum()\n",
    "print(f\"We have {missing_stream_data} streams with missing features, which accounts for {(missing_stream_data / df_filtered.shape[0]):.2%} of the data\")"
   ]
  },
  {
   "cell_type": "code",
   "execution_count": 120,
   "metadata": {},
   "outputs": [
    {
     "data": {
      "text/plain": [
       "endTime             0\n",
       "artistName          0\n",
       "trackName           0\n",
       "msPlayed            0\n",
       "danceability        0\n",
       "energy              0\n",
       "key                 0\n",
       "loudness            0\n",
       "mode                0\n",
       "speechiness         0\n",
       "acousticness        0\n",
       "instrumentalness    0\n",
       "liveness            0\n",
       "valence             0\n",
       "tempo               0\n",
       "duration_ms         0\n",
       "time_signature      0\n",
       "explicit            0\n",
       "popularity          0\n",
       "id_stream           0\n",
       "dtype: int64"
      ]
     },
     "execution_count": 120,
     "metadata": {},
     "output_type": "execute_result"
    }
   ],
   "source": [
    "df_clean = df_filtered.dropna().reset_index(drop = True)\n",
    "df_clean.isnull().sum()"
   ]
  },
  {
   "cell_type": "markdown",
   "metadata": {},
   "source": [
    "### 1.3 Creating new features"
   ]
  },
  {
   "cell_type": "code",
   "execution_count": 121,
   "metadata": {},
   "outputs": [],
   "source": [
    "import warnings\n",
    "warnings.filterwarnings(\"ignore\")"
   ]
  },
  {
   "cell_type": "code",
   "execution_count": 122,
   "metadata": {},
   "outputs": [
    {
     "data": {
      "text/plain": [
       "dtype('O')"
      ]
     },
     "execution_count": 122,
     "metadata": {},
     "output_type": "execute_result"
    }
   ],
   "source": [
    "df_clean['endTime'].dtypes"
   ]
  },
  {
   "cell_type": "code",
   "execution_count": 123,
   "metadata": {},
   "outputs": [],
   "source": [
    "df_clean['timeStamp'] = df_clean.apply(lambda row: pd.Timestamp(row.endTime), axis = 1)"
   ]
  },
  {
   "cell_type": "code",
   "execution_count": 124,
   "metadata": {},
   "outputs": [],
   "source": [
    "df_clean['streamDate'] = df_clean.timeStamp.dt.date # for date\n",
    "df_clean['streamTime'] = df_clean.timeStamp.dt.time # for time\n",
    "\n",
    "df_clean['streamYear'] = df_clean.apply(lambda row: row.timeStamp.year, axis = 1) # for year\n",
    "df_clean['streamMonth'] = df_clean.apply(lambda row: row.timeStamp.month, axis = 1) # for month\n",
    "df_clean['streamDay'] = df_clean.apply(lambda row: row.timeStamp.day, axis = 1) # for day\n",
    "df_clean['streamHour'] = df_clean.apply(lambda row: row.timeStamp.hour, axis = 1) # for hour\n",
    "\n",
    "df_clean.drop(['endTime'], axis = 1, inplace = True) # We can drop this"
   ]
  },
  {
   "cell_type": "code",
   "execution_count": 125,
   "metadata": {
    "scrolled": true
   },
   "outputs": [
    {
     "data": {
      "text/html": [
       "<div>\n",
       "<style scoped>\n",
       "    .dataframe tbody tr th:only-of-type {\n",
       "        vertical-align: middle;\n",
       "    }\n",
       "\n",
       "    .dataframe tbody tr th {\n",
       "        vertical-align: top;\n",
       "    }\n",
       "\n",
       "    .dataframe thead th {\n",
       "        text-align: right;\n",
       "    }\n",
       "</style>\n",
       "<table border=\"1\" class=\"dataframe\">\n",
       "  <thead>\n",
       "    <tr style=\"text-align: right;\">\n",
       "      <th></th>\n",
       "      <th>artistName</th>\n",
       "      <th>trackName</th>\n",
       "      <th>msPlayed</th>\n",
       "      <th>danceability</th>\n",
       "      <th>energy</th>\n",
       "      <th>key</th>\n",
       "      <th>loudness</th>\n",
       "      <th>mode</th>\n",
       "      <th>speechiness</th>\n",
       "      <th>acousticness</th>\n",
       "      <th>instrumentalness</th>\n",
       "      <th>liveness</th>\n",
       "      <th>valence</th>\n",
       "      <th>tempo</th>\n",
       "      <th>duration_ms</th>\n",
       "      <th>time_signature</th>\n",
       "      <th>explicit</th>\n",
       "      <th>popularity</th>\n",
       "      <th>id_stream</th>\n",
       "      <th>timeStamp</th>\n",
       "      <th>streamDate</th>\n",
       "      <th>streamTime</th>\n",
       "      <th>streamYear</th>\n",
       "      <th>streamMonth</th>\n",
       "      <th>streamDay</th>\n",
       "      <th>streamHour</th>\n",
       "    </tr>\n",
       "  </thead>\n",
       "  <tbody>\n",
       "    <tr>\n",
       "      <th>0</th>\n",
       "      <td>Ghost</td>\n",
       "      <td>Cirice</td>\n",
       "      <td>113840</td>\n",
       "      <td>0.555</td>\n",
       "      <td>0.798</td>\n",
       "      <td>3.0</td>\n",
       "      <td>-5.658</td>\n",
       "      <td>1.0</td>\n",
       "      <td>0.0279</td>\n",
       "      <td>0.002540</td>\n",
       "      <td>0.000015</td>\n",
       "      <td>0.1710</td>\n",
       "      <td>0.284</td>\n",
       "      <td>89.987</td>\n",
       "      <td>362093.0</td>\n",
       "      <td>4.0</td>\n",
       "      <td>False</td>\n",
       "      <td>57.0</td>\n",
       "      <td>0</td>\n",
       "      <td>2019-12-28 18:17:00</td>\n",
       "      <td>2019-12-28</td>\n",
       "      <td>18:17:00</td>\n",
       "      <td>2019</td>\n",
       "      <td>12</td>\n",
       "      <td>28</td>\n",
       "      <td>18</td>\n",
       "    </tr>\n",
       "    <tr>\n",
       "      <th>1</th>\n",
       "      <td>Ghost</td>\n",
       "      <td>Year Zero</td>\n",
       "      <td>6976</td>\n",
       "      <td>0.469</td>\n",
       "      <td>0.705</td>\n",
       "      <td>7.0</td>\n",
       "      <td>-5.134</td>\n",
       "      <td>1.0</td>\n",
       "      <td>0.0458</td>\n",
       "      <td>0.030400</td>\n",
       "      <td>0.015500</td>\n",
       "      <td>0.6590</td>\n",
       "      <td>0.137</td>\n",
       "      <td>122.025</td>\n",
       "      <td>350187.0</td>\n",
       "      <td>4.0</td>\n",
       "      <td>True</td>\n",
       "      <td>53.0</td>\n",
       "      <td>1</td>\n",
       "      <td>2019-12-29 12:57:00</td>\n",
       "      <td>2019-12-29</td>\n",
       "      <td>12:57:00</td>\n",
       "      <td>2019</td>\n",
       "      <td>12</td>\n",
       "      <td>29</td>\n",
       "      <td>12</td>\n",
       "    </tr>\n",
       "    <tr>\n",
       "      <th>2</th>\n",
       "      <td>Rise Against</td>\n",
       "      <td>Intro/Chamber The Cartridge</td>\n",
       "      <td>33215</td>\n",
       "      <td>0.234</td>\n",
       "      <td>0.994</td>\n",
       "      <td>8.0</td>\n",
       "      <td>-4.037</td>\n",
       "      <td>1.0</td>\n",
       "      <td>0.3810</td>\n",
       "      <td>0.000340</td>\n",
       "      <td>0.000121</td>\n",
       "      <td>0.6730</td>\n",
       "      <td>0.194</td>\n",
       "      <td>164.397</td>\n",
       "      <td>214907.0</td>\n",
       "      <td>4.0</td>\n",
       "      <td>False</td>\n",
       "      <td>34.0</td>\n",
       "      <td>2</td>\n",
       "      <td>2019-12-29 12:58:00</td>\n",
       "      <td>2019-12-29</td>\n",
       "      <td>12:58:00</td>\n",
       "      <td>2019</td>\n",
       "      <td>12</td>\n",
       "      <td>29</td>\n",
       "      <td>12</td>\n",
       "    </tr>\n",
       "    <tr>\n",
       "      <th>3</th>\n",
       "      <td>Rise Against</td>\n",
       "      <td>Intro/Chamber The Cartridge</td>\n",
       "      <td>860</td>\n",
       "      <td>0.234</td>\n",
       "      <td>0.994</td>\n",
       "      <td>8.0</td>\n",
       "      <td>-4.037</td>\n",
       "      <td>1.0</td>\n",
       "      <td>0.3810</td>\n",
       "      <td>0.000340</td>\n",
       "      <td>0.000121</td>\n",
       "      <td>0.6730</td>\n",
       "      <td>0.194</td>\n",
       "      <td>164.397</td>\n",
       "      <td>214907.0</td>\n",
       "      <td>4.0</td>\n",
       "      <td>False</td>\n",
       "      <td>34.0</td>\n",
       "      <td>3</td>\n",
       "      <td>2019-12-29 12:58:00</td>\n",
       "      <td>2019-12-29</td>\n",
       "      <td>12:58:00</td>\n",
       "      <td>2019</td>\n",
       "      <td>12</td>\n",
       "      <td>29</td>\n",
       "      <td>12</td>\n",
       "    </tr>\n",
       "    <tr>\n",
       "      <th>4</th>\n",
       "      <td>Rise Against</td>\n",
       "      <td>Injection</td>\n",
       "      <td>210846</td>\n",
       "      <td>0.420</td>\n",
       "      <td>0.996</td>\n",
       "      <td>8.0</td>\n",
       "      <td>-2.961</td>\n",
       "      <td>0.0</td>\n",
       "      <td>0.0804</td>\n",
       "      <td>0.000229</td>\n",
       "      <td>0.000420</td>\n",
       "      <td>0.0897</td>\n",
       "      <td>0.433</td>\n",
       "      <td>105.686</td>\n",
       "      <td>199213.0</td>\n",
       "      <td>4.0</td>\n",
       "      <td>False</td>\n",
       "      <td>50.0</td>\n",
       "      <td>4</td>\n",
       "      <td>2019-12-29 13:01:00</td>\n",
       "      <td>2019-12-29</td>\n",
       "      <td>13:01:00</td>\n",
       "      <td>2019</td>\n",
       "      <td>12</td>\n",
       "      <td>29</td>\n",
       "      <td>13</td>\n",
       "    </tr>\n",
       "  </tbody>\n",
       "</table>\n",
       "</div>"
      ],
      "text/plain": [
       "     artistName                    trackName  msPlayed  danceability  energy  \\\n",
       "0         Ghost                       Cirice    113840         0.555   0.798   \n",
       "1         Ghost                    Year Zero      6976         0.469   0.705   \n",
       "2  Rise Against  Intro/Chamber The Cartridge     33215         0.234   0.994   \n",
       "3  Rise Against  Intro/Chamber The Cartridge       860         0.234   0.994   \n",
       "4  Rise Against                    Injection    210846         0.420   0.996   \n",
       "\n",
       "   key  loudness  mode  speechiness  acousticness  instrumentalness  liveness  \\\n",
       "0  3.0    -5.658   1.0       0.0279      0.002540          0.000015    0.1710   \n",
       "1  7.0    -5.134   1.0       0.0458      0.030400          0.015500    0.6590   \n",
       "2  8.0    -4.037   1.0       0.3810      0.000340          0.000121    0.6730   \n",
       "3  8.0    -4.037   1.0       0.3810      0.000340          0.000121    0.6730   \n",
       "4  8.0    -2.961   0.0       0.0804      0.000229          0.000420    0.0897   \n",
       "\n",
       "   valence    tempo  duration_ms  time_signature explicit  popularity  \\\n",
       "0    0.284   89.987     362093.0             4.0    False        57.0   \n",
       "1    0.137  122.025     350187.0             4.0     True        53.0   \n",
       "2    0.194  164.397     214907.0             4.0    False        34.0   \n",
       "3    0.194  164.397     214907.0             4.0    False        34.0   \n",
       "4    0.433  105.686     199213.0             4.0    False        50.0   \n",
       "\n",
       "   id_stream           timeStamp  streamDate streamTime  streamYear  \\\n",
       "0          0 2019-12-28 18:17:00  2019-12-28   18:17:00        2019   \n",
       "1          1 2019-12-29 12:57:00  2019-12-29   12:57:00        2019   \n",
       "2          2 2019-12-29 12:58:00  2019-12-29   12:58:00        2019   \n",
       "3          3 2019-12-29 12:58:00  2019-12-29   12:58:00        2019   \n",
       "4          4 2019-12-29 13:01:00  2019-12-29   13:01:00        2019   \n",
       "\n",
       "   streamMonth  streamDay  streamHour  \n",
       "0           12         28          18  \n",
       "1           12         29          12  \n",
       "2           12         29          12  \n",
       "3           12         29          12  \n",
       "4           12         29          13  "
      ]
     },
     "execution_count": 125,
     "metadata": {},
     "output_type": "execute_result"
    }
   ],
   "source": [
    "df_clean.head()"
   ]
  },
  {
   "cell_type": "markdown",
   "metadata": {},
   "source": [
    "### 1.4 Creating lists based on datatypes"
   ]
  },
  {
   "cell_type": "code",
   "execution_count": 126,
   "metadata": {},
   "outputs": [
    {
     "data": {
      "text/plain": [
       "artistName                  object\n",
       "trackName                   object\n",
       "msPlayed                     int64\n",
       "danceability               float64\n",
       "energy                     float64\n",
       "key                        float64\n",
       "loudness                   float64\n",
       "mode                       float64\n",
       "speechiness                float64\n",
       "acousticness               float64\n",
       "instrumentalness           float64\n",
       "liveness                   float64\n",
       "valence                    float64\n",
       "tempo                      float64\n",
       "duration_ms                float64\n",
       "time_signature             float64\n",
       "explicit                    object\n",
       "popularity                 float64\n",
       "id_stream                    int32\n",
       "timeStamp           datetime64[ns]\n",
       "streamDate                  object\n",
       "streamTime                  object\n",
       "streamYear                   int64\n",
       "streamMonth                  int64\n",
       "streamDay                    int64\n",
       "streamHour                   int64\n",
       "dtype: object"
      ]
     },
     "execution_count": 126,
     "metadata": {},
     "output_type": "execute_result"
    }
   ],
   "source": [
    "df_clean.dtypes"
   ]
  },
  {
   "cell_type": "code",
   "execution_count": 128,
   "metadata": {},
   "outputs": [
    {
     "name": "stdout",
     "output_type": "stream",
     "text": [
      "Check if all variables are assigned to a list: True\n"
     ]
    }
   ],
   "source": [
    "time = [var \n",
    "        for var in df_clean.columns \n",
    "        if var.startswith('stream') or df_clean[var].dtypes == 'datetime64[ns]']\n",
    "\n",
    "discrete = [var \n",
    "            for var in df_clean.columns \n",
    "            if df_clean[var].dtypes != 'O' and df_clean[var].nunique() < 15 and var not in time]\n",
    "\n",
    "continuous = [var \n",
    "              for var in df_clean.columns \n",
    "              if df_clean[var].dtypes != 'O' and var not in time and var not in discrete]\n",
    "\n",
    "categorical = [var \n",
    "              for var in df_clean.columns \n",
    "              if df_clean[var].dtypes == 'O' and var not in time]\n",
    "\n",
    "check = (len(discrete) + len(continuous) + len(time) + len(categorical) == len(df_clean.columns))\n",
    "\n",
    "print(f\"Check if all variables are assigned to a list: {check}\")\n"
   ]
  },
  {
   "cell_type": "markdown",
   "metadata": {},
   "source": [
    "## 2. Main statistics"
   ]
  },
  {
   "cell_type": "markdown",
   "metadata": {},
   "source": [
    "Several features were extracted using the Spotify for Developers API. Taking from the documentation, here is the description of the features used here:\n",
    "\n",
    "* **duration_ms** - The duration of the track in milliseconds.\n",
    "* **key** - The estimated overall key of the track. Integers map to pitches using standard Pitch Class notation . E.g. 0 = C, 1 = C♯/D♭, 2 = D, and so on. If no key was detected, the value is -1.\n",
    "* **mode** - Mode indicates the modality (major or minor) of a track, the type of scale from which its melodic content is derived. Major is represented by 1 and minor is 0.\n",
    "* **time_signature** - \tAn estimated overall time signature of a track.\n",
    "* **acousticness** - A confidence measure from 0.0 to 1.0 of whether the track is acoustic. 1.0 represents high confidence the track is acoustic.\n",
    "* **danceability** - Danceability describes how suitable a track is for dancing based on a combination of musical elements including tempo, rhythm stability, beat strength, and overall regularity. A value of 0.0 is least danceable and 1.0 is most danceable.\n",
    "* **energy** - Energy is a measure from 0.0 to 1.0 and represents a perceptual measure of intensity and activity. Typically, energetic tracks feel fast, loud, and noisy.\n",
    "* **instrumentalness** - Predicts whether a track contains no vocals. “Ooh” and “aah” sounds are treated as instrumental in this context.\n",
    "* **liveness** - Detects the presence of an audience in the recording.\n",
    "* **loudness** - The overall loudness of a track in decibels (dB).\n",
    "* **speechiness** - Speechiness detects the presence of spoken words in a track.\n",
    "* **valence** - A measure from 0.0 to 1.0 describing the musical positiveness conveyed by a track.\n",
    "* **tempo** - The overall estimated tempo of a track in beats per minute (BPM). "
   ]
  },
  {
   "cell_type": "code",
   "execution_count": 129,
   "metadata": {},
   "outputs": [
    {
     "data": {
      "text/html": [
       "<div>\n",
       "<style scoped>\n",
       "    .dataframe tbody tr th:only-of-type {\n",
       "        vertical-align: middle;\n",
       "    }\n",
       "\n",
       "    .dataframe tbody tr th {\n",
       "        vertical-align: top;\n",
       "    }\n",
       "\n",
       "    .dataframe thead th {\n",
       "        text-align: right;\n",
       "    }\n",
       "</style>\n",
       "<table border=\"1\" class=\"dataframe\">\n",
       "  <thead>\n",
       "    <tr style=\"text-align: right;\">\n",
       "      <th></th>\n",
       "      <th>artistName</th>\n",
       "      <th>trackName</th>\n",
       "      <th>msPlayed</th>\n",
       "      <th>danceability</th>\n",
       "      <th>energy</th>\n",
       "      <th>key</th>\n",
       "      <th>loudness</th>\n",
       "      <th>mode</th>\n",
       "      <th>speechiness</th>\n",
       "      <th>acousticness</th>\n",
       "      <th>instrumentalness</th>\n",
       "      <th>liveness</th>\n",
       "      <th>valence</th>\n",
       "      <th>tempo</th>\n",
       "      <th>duration_ms</th>\n",
       "      <th>time_signature</th>\n",
       "      <th>explicit</th>\n",
       "      <th>popularity</th>\n",
       "      <th>id_stream</th>\n",
       "      <th>timeStamp</th>\n",
       "      <th>streamDate</th>\n",
       "      <th>streamTime</th>\n",
       "      <th>streamYear</th>\n",
       "      <th>streamMonth</th>\n",
       "      <th>streamDay</th>\n",
       "      <th>streamHour</th>\n",
       "    </tr>\n",
       "  </thead>\n",
       "  <tbody>\n",
       "    <tr>\n",
       "      <th>0</th>\n",
       "      <td>Ghost</td>\n",
       "      <td>Cirice</td>\n",
       "      <td>113840</td>\n",
       "      <td>0.555</td>\n",
       "      <td>0.798</td>\n",
       "      <td>3.0</td>\n",
       "      <td>-5.658</td>\n",
       "      <td>1.0</td>\n",
       "      <td>0.0279</td>\n",
       "      <td>0.002540</td>\n",
       "      <td>0.000015</td>\n",
       "      <td>0.1710</td>\n",
       "      <td>0.284</td>\n",
       "      <td>89.987</td>\n",
       "      <td>362093.0</td>\n",
       "      <td>4.0</td>\n",
       "      <td>False</td>\n",
       "      <td>57.0</td>\n",
       "      <td>0</td>\n",
       "      <td>2019-12-28 18:17:00</td>\n",
       "      <td>2019-12-28</td>\n",
       "      <td>18:17:00</td>\n",
       "      <td>2019</td>\n",
       "      <td>12</td>\n",
       "      <td>28</td>\n",
       "      <td>18</td>\n",
       "    </tr>\n",
       "    <tr>\n",
       "      <th>1</th>\n",
       "      <td>Ghost</td>\n",
       "      <td>Year Zero</td>\n",
       "      <td>6976</td>\n",
       "      <td>0.469</td>\n",
       "      <td>0.705</td>\n",
       "      <td>7.0</td>\n",
       "      <td>-5.134</td>\n",
       "      <td>1.0</td>\n",
       "      <td>0.0458</td>\n",
       "      <td>0.030400</td>\n",
       "      <td>0.015500</td>\n",
       "      <td>0.6590</td>\n",
       "      <td>0.137</td>\n",
       "      <td>122.025</td>\n",
       "      <td>350187.0</td>\n",
       "      <td>4.0</td>\n",
       "      <td>True</td>\n",
       "      <td>53.0</td>\n",
       "      <td>1</td>\n",
       "      <td>2019-12-29 12:57:00</td>\n",
       "      <td>2019-12-29</td>\n",
       "      <td>12:57:00</td>\n",
       "      <td>2019</td>\n",
       "      <td>12</td>\n",
       "      <td>29</td>\n",
       "      <td>12</td>\n",
       "    </tr>\n",
       "    <tr>\n",
       "      <th>2</th>\n",
       "      <td>Rise Against</td>\n",
       "      <td>Intro/Chamber The Cartridge</td>\n",
       "      <td>33215</td>\n",
       "      <td>0.234</td>\n",
       "      <td>0.994</td>\n",
       "      <td>8.0</td>\n",
       "      <td>-4.037</td>\n",
       "      <td>1.0</td>\n",
       "      <td>0.3810</td>\n",
       "      <td>0.000340</td>\n",
       "      <td>0.000121</td>\n",
       "      <td>0.6730</td>\n",
       "      <td>0.194</td>\n",
       "      <td>164.397</td>\n",
       "      <td>214907.0</td>\n",
       "      <td>4.0</td>\n",
       "      <td>False</td>\n",
       "      <td>34.0</td>\n",
       "      <td>2</td>\n",
       "      <td>2019-12-29 12:58:00</td>\n",
       "      <td>2019-12-29</td>\n",
       "      <td>12:58:00</td>\n",
       "      <td>2019</td>\n",
       "      <td>12</td>\n",
       "      <td>29</td>\n",
       "      <td>12</td>\n",
       "    </tr>\n",
       "    <tr>\n",
       "      <th>3</th>\n",
       "      <td>Rise Against</td>\n",
       "      <td>Intro/Chamber The Cartridge</td>\n",
       "      <td>860</td>\n",
       "      <td>0.234</td>\n",
       "      <td>0.994</td>\n",
       "      <td>8.0</td>\n",
       "      <td>-4.037</td>\n",
       "      <td>1.0</td>\n",
       "      <td>0.3810</td>\n",
       "      <td>0.000340</td>\n",
       "      <td>0.000121</td>\n",
       "      <td>0.6730</td>\n",
       "      <td>0.194</td>\n",
       "      <td>164.397</td>\n",
       "      <td>214907.0</td>\n",
       "      <td>4.0</td>\n",
       "      <td>False</td>\n",
       "      <td>34.0</td>\n",
       "      <td>3</td>\n",
       "      <td>2019-12-29 12:58:00</td>\n",
       "      <td>2019-12-29</td>\n",
       "      <td>12:58:00</td>\n",
       "      <td>2019</td>\n",
       "      <td>12</td>\n",
       "      <td>29</td>\n",
       "      <td>12</td>\n",
       "    </tr>\n",
       "    <tr>\n",
       "      <th>4</th>\n",
       "      <td>Rise Against</td>\n",
       "      <td>Injection</td>\n",
       "      <td>210846</td>\n",
       "      <td>0.420</td>\n",
       "      <td>0.996</td>\n",
       "      <td>8.0</td>\n",
       "      <td>-2.961</td>\n",
       "      <td>0.0</td>\n",
       "      <td>0.0804</td>\n",
       "      <td>0.000229</td>\n",
       "      <td>0.000420</td>\n",
       "      <td>0.0897</td>\n",
       "      <td>0.433</td>\n",
       "      <td>105.686</td>\n",
       "      <td>199213.0</td>\n",
       "      <td>4.0</td>\n",
       "      <td>False</td>\n",
       "      <td>50.0</td>\n",
       "      <td>4</td>\n",
       "      <td>2019-12-29 13:01:00</td>\n",
       "      <td>2019-12-29</td>\n",
       "      <td>13:01:00</td>\n",
       "      <td>2019</td>\n",
       "      <td>12</td>\n",
       "      <td>29</td>\n",
       "      <td>13</td>\n",
       "    </tr>\n",
       "  </tbody>\n",
       "</table>\n",
       "</div>"
      ],
      "text/plain": [
       "     artistName                    trackName  msPlayed  danceability  energy  \\\n",
       "0         Ghost                       Cirice    113840         0.555   0.798   \n",
       "1         Ghost                    Year Zero      6976         0.469   0.705   \n",
       "2  Rise Against  Intro/Chamber The Cartridge     33215         0.234   0.994   \n",
       "3  Rise Against  Intro/Chamber The Cartridge       860         0.234   0.994   \n",
       "4  Rise Against                    Injection    210846         0.420   0.996   \n",
       "\n",
       "   key  loudness  mode  speechiness  acousticness  instrumentalness  liveness  \\\n",
       "0  3.0    -5.658   1.0       0.0279      0.002540          0.000015    0.1710   \n",
       "1  7.0    -5.134   1.0       0.0458      0.030400          0.015500    0.6590   \n",
       "2  8.0    -4.037   1.0       0.3810      0.000340          0.000121    0.6730   \n",
       "3  8.0    -4.037   1.0       0.3810      0.000340          0.000121    0.6730   \n",
       "4  8.0    -2.961   0.0       0.0804      0.000229          0.000420    0.0897   \n",
       "\n",
       "   valence    tempo  duration_ms  time_signature explicit  popularity  \\\n",
       "0    0.284   89.987     362093.0             4.0    False        57.0   \n",
       "1    0.137  122.025     350187.0             4.0     True        53.0   \n",
       "2    0.194  164.397     214907.0             4.0    False        34.0   \n",
       "3    0.194  164.397     214907.0             4.0    False        34.0   \n",
       "4    0.433  105.686     199213.0             4.0    False        50.0   \n",
       "\n",
       "   id_stream           timeStamp  streamDate streamTime  streamYear  \\\n",
       "0          0 2019-12-28 18:17:00  2019-12-28   18:17:00        2019   \n",
       "1          1 2019-12-29 12:57:00  2019-12-29   12:57:00        2019   \n",
       "2          2 2019-12-29 12:58:00  2019-12-29   12:58:00        2019   \n",
       "3          3 2019-12-29 12:58:00  2019-12-29   12:58:00        2019   \n",
       "4          4 2019-12-29 13:01:00  2019-12-29   13:01:00        2019   \n",
       "\n",
       "   streamMonth  streamDay  streamHour  \n",
       "0           12         28          18  \n",
       "1           12         29          12  \n",
       "2           12         29          12  \n",
       "3           12         29          12  \n",
       "4           12         29          13  "
      ]
     },
     "execution_count": 129,
     "metadata": {},
     "output_type": "execute_result"
    }
   ],
   "source": [
    "df_clean.head()"
   ]
  },
  {
   "cell_type": "code",
   "execution_count": 130,
   "metadata": {},
   "outputs": [
    {
     "name": "stdout",
     "output_type": "stream",
     "text": [
      " We have a total of 4668 unique songs which account for 25.36% of total streams\n"
     ]
    }
   ],
   "source": [
    "unique_songs = df_clean['trackName'].unique()\n",
    "total_streams = df_clean['trackName'].count()\n",
    "\n",
    "print(f\" We have a total of {len(unique_songs)} unique songs which account for {(len(unique_songs) / total_streams):.2%} of total streams\")"
   ]
  },
  {
   "cell_type": "code",
   "execution_count": 131,
   "metadata": {},
   "outputs": [
    {
     "name": "stdout",
     "output_type": "stream",
     "text": [
      "We have a total of 1526 artists in the stream history\n"
     ]
    }
   ],
   "source": [
    "unique_artists = df_clean['artistName'].unique()\n",
    "print(f\"We have a total of {len(unique_artists)} artists in the stream history\")"
   ]
  },
  {
   "cell_type": "code",
   "execution_count": 132,
   "metadata": {
    "scrolled": true
   },
   "outputs": [
    {
     "data": {
      "text/html": [
       "<div>\n",
       "<style scoped>\n",
       "    .dataframe tbody tr th:only-of-type {\n",
       "        vertical-align: middle;\n",
       "    }\n",
       "\n",
       "    .dataframe tbody tr th {\n",
       "        vertical-align: top;\n",
       "    }\n",
       "\n",
       "    .dataframe thead th {\n",
       "        text-align: right;\n",
       "    }\n",
       "</style>\n",
       "<table border=\"1\" class=\"dataframe\">\n",
       "  <thead>\n",
       "    <tr style=\"text-align: right;\">\n",
       "      <th></th>\n",
       "      <th>msPlayed</th>\n",
       "      <th>danceability</th>\n",
       "      <th>energy</th>\n",
       "      <th>key</th>\n",
       "      <th>loudness</th>\n",
       "      <th>mode</th>\n",
       "      <th>speechiness</th>\n",
       "      <th>acousticness</th>\n",
       "      <th>instrumentalness</th>\n",
       "      <th>liveness</th>\n",
       "      <th>valence</th>\n",
       "      <th>tempo</th>\n",
       "      <th>duration_ms</th>\n",
       "      <th>time_signature</th>\n",
       "      <th>popularity</th>\n",
       "      <th>id_stream</th>\n",
       "      <th>streamYear</th>\n",
       "      <th>streamMonth</th>\n",
       "      <th>streamDay</th>\n",
       "      <th>streamHour</th>\n",
       "    </tr>\n",
       "  </thead>\n",
       "  <tbody>\n",
       "    <tr>\n",
       "      <th>count</th>\n",
       "      <td>1.840400e+04</td>\n",
       "      <td>18404.000000</td>\n",
       "      <td>18404.000000</td>\n",
       "      <td>18404.000000</td>\n",
       "      <td>18404.000000</td>\n",
       "      <td>18404.000000</td>\n",
       "      <td>18404.000000</td>\n",
       "      <td>18404.000000</td>\n",
       "      <td>18404.000000</td>\n",
       "      <td>18404.000000</td>\n",
       "      <td>18404.000000</td>\n",
       "      <td>18404.000000</td>\n",
       "      <td>1.840400e+04</td>\n",
       "      <td>18404.000000</td>\n",
       "      <td>18404.000000</td>\n",
       "      <td>18404.000000</td>\n",
       "      <td>18404.000000</td>\n",
       "      <td>18404.000000</td>\n",
       "      <td>18404.000000</td>\n",
       "      <td>18404.000000</td>\n",
       "    </tr>\n",
       "    <tr>\n",
       "      <th>mean</th>\n",
       "      <td>1.255989e+05</td>\n",
       "      <td>0.483478</td>\n",
       "      <td>0.702471</td>\n",
       "      <td>5.089763</td>\n",
       "      <td>-7.712845</td>\n",
       "      <td>0.574821</td>\n",
       "      <td>0.073131</td>\n",
       "      <td>0.185568</td>\n",
       "      <td>0.153852</td>\n",
       "      <td>0.203183</td>\n",
       "      <td>0.396405</td>\n",
       "      <td>123.984145</td>\n",
       "      <td>2.525789e+05</td>\n",
       "      <td>3.885242</td>\n",
       "      <td>54.277005</td>\n",
       "      <td>10213.483645</td>\n",
       "      <td>2019.992176</td>\n",
       "      <td>6.305694</td>\n",
       "      <td>15.834927</td>\n",
       "      <td>15.772386</td>\n",
       "    </tr>\n",
       "    <tr>\n",
       "      <th>std</th>\n",
       "      <td>1.364764e+05</td>\n",
       "      <td>0.159164</td>\n",
       "      <td>0.265540</td>\n",
       "      <td>3.557904</td>\n",
       "      <td>5.378782</td>\n",
       "      <td>0.494384</td>\n",
       "      <td>0.067780</td>\n",
       "      <td>0.308144</td>\n",
       "      <td>0.298692</td>\n",
       "      <td>0.173272</td>\n",
       "      <td>0.229062</td>\n",
       "      <td>29.857891</td>\n",
       "      <td>9.075627e+04</td>\n",
       "      <td>0.477707</td>\n",
       "      <td>17.097729</td>\n",
       "      <td>5884.353594</td>\n",
       "      <td>0.088111</td>\n",
       "      <td>3.571627</td>\n",
       "      <td>8.888731</td>\n",
       "      <td>5.220267</td>\n",
       "    </tr>\n",
       "    <tr>\n",
       "      <th>min</th>\n",
       "      <td>0.000000e+00</td>\n",
       "      <td>0.000000</td>\n",
       "      <td>0.000020</td>\n",
       "      <td>0.000000</td>\n",
       "      <td>-41.166000</td>\n",
       "      <td>0.000000</td>\n",
       "      <td>0.000000</td>\n",
       "      <td>0.000000</td>\n",
       "      <td>0.000000</td>\n",
       "      <td>0.020200</td>\n",
       "      <td>0.000000</td>\n",
       "      <td>0.000000</td>\n",
       "      <td>2.390700e+04</td>\n",
       "      <td>0.000000</td>\n",
       "      <td>0.000000</td>\n",
       "      <td>0.000000</td>\n",
       "      <td>2019.000000</td>\n",
       "      <td>1.000000</td>\n",
       "      <td>1.000000</td>\n",
       "      <td>0.000000</td>\n",
       "    </tr>\n",
       "    <tr>\n",
       "      <th>25%</th>\n",
       "      <td>1.623750e+03</td>\n",
       "      <td>0.376000</td>\n",
       "      <td>0.556000</td>\n",
       "      <td>2.000000</td>\n",
       "      <td>-8.580000</td>\n",
       "      <td>0.000000</td>\n",
       "      <td>0.036400</td>\n",
       "      <td>0.000366</td>\n",
       "      <td>0.000007</td>\n",
       "      <td>0.097900</td>\n",
       "      <td>0.221000</td>\n",
       "      <td>101.305000</td>\n",
       "      <td>2.013870e+05</td>\n",
       "      <td>4.000000</td>\n",
       "      <td>43.000000</td>\n",
       "      <td>5156.750000</td>\n",
       "      <td>2020.000000</td>\n",
       "      <td>3.000000</td>\n",
       "      <td>8.000000</td>\n",
       "      <td>11.000000</td>\n",
       "    </tr>\n",
       "    <tr>\n",
       "      <th>50%</th>\n",
       "      <td>8.831850e+04</td>\n",
       "      <td>0.483000</td>\n",
       "      <td>0.794000</td>\n",
       "      <td>5.000000</td>\n",
       "      <td>-5.970000</td>\n",
       "      <td>1.000000</td>\n",
       "      <td>0.050500</td>\n",
       "      <td>0.013200</td>\n",
       "      <td>0.000904</td>\n",
       "      <td>0.133000</td>\n",
       "      <td>0.365500</td>\n",
       "      <td>123.693500</td>\n",
       "      <td>2.414400e+05</td>\n",
       "      <td>4.000000</td>\n",
       "      <td>55.000000</td>\n",
       "      <td>10236.500000</td>\n",
       "      <td>2020.000000</td>\n",
       "      <td>6.000000</td>\n",
       "      <td>15.000000</td>\n",
       "      <td>17.000000</td>\n",
       "    </tr>\n",
       "    <tr>\n",
       "      <th>75%</th>\n",
       "      <td>2.307250e+05</td>\n",
       "      <td>0.584000</td>\n",
       "      <td>0.921000</td>\n",
       "      <td>8.000000</td>\n",
       "      <td>-4.516500</td>\n",
       "      <td>1.000000</td>\n",
       "      <td>0.080300</td>\n",
       "      <td>0.212000</td>\n",
       "      <td>0.091700</td>\n",
       "      <td>0.268000</td>\n",
       "      <td>0.549000</td>\n",
       "      <td>144.012000</td>\n",
       "      <td>2.909470e+05</td>\n",
       "      <td>4.000000</td>\n",
       "      <td>66.000000</td>\n",
       "      <td>15303.250000</td>\n",
       "      <td>2020.000000</td>\n",
       "      <td>9.000000</td>\n",
       "      <td>24.000000</td>\n",
       "      <td>20.000000</td>\n",
       "    </tr>\n",
       "    <tr>\n",
       "      <th>max</th>\n",
       "      <td>3.581010e+06</td>\n",
       "      <td>0.971000</td>\n",
       "      <td>0.999000</td>\n",
       "      <td>11.000000</td>\n",
       "      <td>-0.140000</td>\n",
       "      <td>1.000000</td>\n",
       "      <td>0.935000</td>\n",
       "      <td>0.996000</td>\n",
       "      <td>1.000000</td>\n",
       "      <td>0.998000</td>\n",
       "      <td>0.989000</td>\n",
       "      <td>220.099000</td>\n",
       "      <td>1.441003e+06</td>\n",
       "      <td>5.000000</td>\n",
       "      <td>100.000000</td>\n",
       "      <td>20405.000000</td>\n",
       "      <td>2020.000000</td>\n",
       "      <td>12.000000</td>\n",
       "      <td>31.000000</td>\n",
       "      <td>23.000000</td>\n",
       "    </tr>\n",
       "  </tbody>\n",
       "</table>\n",
       "</div>"
      ],
      "text/plain": [
       "           msPlayed  danceability        energy           key      loudness  \\\n",
       "count  1.840400e+04  18404.000000  18404.000000  18404.000000  18404.000000   \n",
       "mean   1.255989e+05      0.483478      0.702471      5.089763     -7.712845   \n",
       "std    1.364764e+05      0.159164      0.265540      3.557904      5.378782   \n",
       "min    0.000000e+00      0.000000      0.000020      0.000000    -41.166000   \n",
       "25%    1.623750e+03      0.376000      0.556000      2.000000     -8.580000   \n",
       "50%    8.831850e+04      0.483000      0.794000      5.000000     -5.970000   \n",
       "75%    2.307250e+05      0.584000      0.921000      8.000000     -4.516500   \n",
       "max    3.581010e+06      0.971000      0.999000     11.000000     -0.140000   \n",
       "\n",
       "               mode   speechiness  acousticness  instrumentalness  \\\n",
       "count  18404.000000  18404.000000  18404.000000      18404.000000   \n",
       "mean       0.574821      0.073131      0.185568          0.153852   \n",
       "std        0.494384      0.067780      0.308144          0.298692   \n",
       "min        0.000000      0.000000      0.000000          0.000000   \n",
       "25%        0.000000      0.036400      0.000366          0.000007   \n",
       "50%        1.000000      0.050500      0.013200          0.000904   \n",
       "75%        1.000000      0.080300      0.212000          0.091700   \n",
       "max        1.000000      0.935000      0.996000          1.000000   \n",
       "\n",
       "           liveness       valence         tempo   duration_ms  time_signature  \\\n",
       "count  18404.000000  18404.000000  18404.000000  1.840400e+04    18404.000000   \n",
       "mean       0.203183      0.396405    123.984145  2.525789e+05        3.885242   \n",
       "std        0.173272      0.229062     29.857891  9.075627e+04        0.477707   \n",
       "min        0.020200      0.000000      0.000000  2.390700e+04        0.000000   \n",
       "25%        0.097900      0.221000    101.305000  2.013870e+05        4.000000   \n",
       "50%        0.133000      0.365500    123.693500  2.414400e+05        4.000000   \n",
       "75%        0.268000      0.549000    144.012000  2.909470e+05        4.000000   \n",
       "max        0.998000      0.989000    220.099000  1.441003e+06        5.000000   \n",
       "\n",
       "         popularity     id_stream    streamYear   streamMonth     streamDay  \\\n",
       "count  18404.000000  18404.000000  18404.000000  18404.000000  18404.000000   \n",
       "mean      54.277005  10213.483645   2019.992176      6.305694     15.834927   \n",
       "std       17.097729   5884.353594      0.088111      3.571627      8.888731   \n",
       "min        0.000000      0.000000   2019.000000      1.000000      1.000000   \n",
       "25%       43.000000   5156.750000   2020.000000      3.000000      8.000000   \n",
       "50%       55.000000  10236.500000   2020.000000      6.000000     15.000000   \n",
       "75%       66.000000  15303.250000   2020.000000      9.000000     24.000000   \n",
       "max      100.000000  20405.000000   2020.000000     12.000000     31.000000   \n",
       "\n",
       "         streamHour  \n",
       "count  18404.000000  \n",
       "mean      15.772386  \n",
       "std        5.220267  \n",
       "min        0.000000  \n",
       "25%       11.000000  \n",
       "50%       17.000000  \n",
       "75%       20.000000  \n",
       "max       23.000000  "
      ]
     },
     "execution_count": 132,
     "metadata": {},
     "output_type": "execute_result"
    }
   ],
   "source": [
    "df_clean.describe()"
   ]
  },
  {
   "cell_type": "code",
   "execution_count": 135,
   "metadata": {},
   "outputs": [],
   "source": [
    "def get_top_artists(df, n_artists: int = 5):\n",
    "    '''\n",
    "    funtion to get top n artists with the most streams from streaming database\n",
    "    -------------------------------------------------------\n",
    "    arguments:\n",
    "        df = df of streaming database\n",
    "        n_tracks = number of top tracks to get\n",
    "    '''\n",
    "    df = df.copy()\n",
    "    top_artists = df.groupby(['artistName'])['id_stream'].count().sort_values(ascending = False).iloc[:n_artists]\n",
    "    \n",
    "    return top_artists"
   ]
  },
  {
   "cell_type": "code",
   "execution_count": 136,
   "metadata": {},
   "outputs": [
    {
     "data": {
      "text/plain": [
       "artistName\n",
       "Ghost        1865\n",
       "Anathema     1060\n",
       "Moonspell     902\n",
       "Trivium       712\n",
       "Slipknot      610\n",
       "Name: id_stream, dtype: int64"
      ]
     },
     "execution_count": 136,
     "metadata": {},
     "output_type": "execute_result"
    }
   ],
   "source": [
    "get_top_artists(df_clean, n_artists = 5)"
   ]
  },
  {
   "cell_type": "code",
   "execution_count": 137,
   "metadata": {},
   "outputs": [],
   "source": [
    "def print_top_tracks(df, n_tracks: int):\n",
    "    '''\n",
    "    funtion to print top n tracks from streaming database\n",
    "    -------------------------------------------------------\n",
    "    arguments:\n",
    "        df = df of streaming database\n",
    "        n_tracks = number of top tracks to get\n",
    "    '''\n",
    "    df = df.copy()\n",
    "    top_tracks = df.groupby('trackName')['id_stream'].count().sort_values(ascending = False)[:n_tracks,]\n",
    "\n",
    "    for i, song in enumerate(list((top_tracks).index)):\n",
    "        stream = df.loc[df['trackName'] == song]\n",
    "        artist = stream['artistName'].iloc[0]\n",
    "\n",
    "        print(f\"The #{i+1} streamed song '{song}' is from '{artist}', with a total of {top_tracks.iloc[i]} streams\")"
   ]
  },
  {
   "cell_type": "code",
   "execution_count": 138,
   "metadata": {},
   "outputs": [
    {
     "name": "stdout",
     "output_type": "stream",
     "text": [
      "The #1 streamed song 'Untouchable Part 2' is from 'Anathema', with a total of 104 streams\n",
      "The #2 streamed song 'Untouchable Part 1' is from 'Anathema', with a total of 101 streams\n",
      "The #3 streamed song 'Mary On A Cross' is from 'Ghost', with a total of 95 streams\n",
      "The #4 streamed song 'Dance Macabre' is from 'Ghost', with a total of 93 streams\n",
      "The #5 streamed song 'Cirice' is from 'Ghost', with a total of 85 streams\n",
      "The #6 streamed song 'Faith' is from 'Ghost', with a total of 82 streams\n",
      "The #7 streamed song 'Thin Air' is from 'Anathema', with a total of 80 streams\n",
      "The #8 streamed song 'Rats' is from 'Ghost', with a total of 74 streams\n",
      "The #9 streamed song 'Everything' is from 'Anathema', with a total of 72 streams\n",
      "The #10 streamed song 'Fear' is from 'CommonWealth', with a total of 72 streams\n"
     ]
    }
   ],
   "source": [
    "print_top_tracks(df_clean, n_tracks = 10)"
   ]
  },
  {
   "cell_type": "markdown",
   "metadata": {},
   "source": [
    "## 3. Visualizations"
   ]
  },
  {
   "cell_type": "markdown",
   "metadata": {},
   "source": [
    "### 3.1 Categorical variables"
   ]
  },
  {
   "cell_type": "code",
   "execution_count": 139,
   "metadata": {},
   "outputs": [
    {
     "data": {
      "text/plain": [
       "['artistName', 'trackName', 'explicit']"
      ]
     },
     "execution_count": 139,
     "metadata": {},
     "output_type": "execute_result"
    }
   ],
   "source": [
    "categorical"
   ]
  },
  {
   "cell_type": "code",
   "execution_count": 140,
   "metadata": {},
   "outputs": [
    {
     "name": "stdout",
     "output_type": "stream",
     "text": [
      "artistName has 1526 unique values\n",
      "trackName has 4668 unique values\n",
      "explicit has 2 unique values\n"
     ]
    }
   ],
   "source": [
    "for var in categorical:\n",
    "    print(f\"{var} has {df_clean[var].nunique()} unique values\")"
   ]
  },
  {
   "cell_type": "markdown",
   "metadata": {},
   "source": [
    "Categorical variables have a really high cardinality. Let's just show the top 20 in visualizations"
   ]
  },
  {
   "cell_type": "code",
   "execution_count": 145,
   "metadata": {},
   "outputs": [
    {
     "data": {
      "image/png": "[encoded data removed]",
      "text/plain": [
       "<Figure size 432x288 with 1 Axes>"
      ]
     },
     "metadata": {},
     "output_type": "display_data"
    },
    {
     "data": {
      "image/png": "[encoded data removed]",
      "text/plain": [
       "<Figure size 432x288 with 1 Axes>"
      ]
     },
     "metadata": {},
     "output_type": "display_data"
    },
    {
     "data": {
      "image/png": "[encoded data removed]",
      "text/plain": [
       "<Figure size 432x288 with 1 Axes>"
      ]
     },
     "metadata": {},
     "output_type": "display_data"
    }
   ],
   "source": [
    "plt.style.use('ggplot')\n",
    "sns.set_style('white')\n",
    "for var in categorical:\n",
    "    df = df_clean.copy()\n",
    "    \n",
    "    fig, ax = plt.subplots()\n",
    "    if df[var].nunique() > 20:\n",
    "            \n",
    "        group = df.groupby(var, as_index = False)['id_stream'].count()\n",
    "        top_10 = group.sort_values(by = 'id_stream', ascending = False)[:10].reset_index(drop = True)\n",
    "        \n",
    "        ax = sns.barplot(x = var, y = 'id_stream', data = top_10, palette = 'mako')\n",
    "        ax.set_xticklabels(top_10[var], rotation = 45)\n",
    "    else:\n",
    "        group = df.groupby(var, as_index = False)['id_stream'].count()\n",
    "        count = group.sort_values(by = 'id_stream', ascending = False)\n",
    "        sns.barplot(x = var, y = 'id_stream', data = count, palette = 'mako')"
   ]
  },
  {
   "cell_type": "markdown",
   "metadata": {},
   "source": [
    "### 3.2 Time variables"
   ]
  },
  {
   "cell_type": "code",
   "execution_count": 147,
   "metadata": {},
   "outputs": [
    {
     "data": {
      "text/plain": [
       "['timeStamp',\n",
       " 'streamDate',\n",
       " 'streamTime',\n",
       " 'streamYear',\n",
       " 'streamMonth',\n",
       " 'streamDay',\n",
       " 'streamHour']"
      ]
     },
     "execution_count": 147,
     "metadata": {},
     "output_type": "execute_result"
    }
   ],
   "source": [
    "time"
   ]
  },
  {
   "cell_type": "code",
   "execution_count": 165,
   "metadata": {},
   "outputs": [
    {
     "data": {
      "image/png": "[encoded data removed]",
      "text/plain": [
       "<Figure size 432x288 with 1 Axes>"
      ]
     },
     "metadata": {},
     "output_type": "display_data"
    }
   ],
   "source": [
    "plot = df_clean.groupby('streamHour')['id_stream'].count().reset_index(drop = False)\n",
    "\n",
    "ax = sns.lineplot(data = plot, x = 'streamHour', y = 'id_stream')"
   ]
  },
  {
   "cell_type": "code",
   "execution_count": 166,
   "metadata": {},
   "outputs": [
    {
     "data": {
      "image/png": "[encoded data removed]",
      "text/plain": [
       "<Figure size 432x288 with 1 Axes>"
      ]
     },
     "metadata": {},
     "output_type": "display_data"
    }
   ],
   "source": [
    "# Stream by month\n",
    "plot = df_clean.groupby('streamMonth')['id_stream'].count().reset_index(drop = False)\n",
    "\n",
    "ax = sns.lineplot(data = plot, x = 'streamMonth', y = 'id_stream')"
   ]
  },
  {
   "cell_type": "code",
   "execution_count": 173,
   "metadata": {},
   "outputs": [
    {
     "data": {
      "text/html": [
       "<div>\n",
       "<style scoped>\n",
       "    .dataframe tbody tr th:only-of-type {\n",
       "        vertical-align: middle;\n",
       "    }\n",
       "\n",
       "    .dataframe tbody tr th {\n",
       "        vertical-align: top;\n",
       "    }\n",
       "\n",
       "    .dataframe thead th {\n",
       "        text-align: right;\n",
       "    }\n",
       "</style>\n",
       "<table border=\"1\" class=\"dataframe\">\n",
       "  <thead>\n",
       "    <tr style=\"text-align: right;\">\n",
       "      <th></th>\n",
       "      <th>streamDate</th>\n",
       "      <th>id_stream</th>\n",
       "    </tr>\n",
       "  </thead>\n",
       "  <tbody>\n",
       "    <tr>\n",
       "      <th>0</th>\n",
       "      <td>2019-12-28</td>\n",
       "      <td>1</td>\n",
       "    </tr>\n",
       "    <tr>\n",
       "      <th>1</th>\n",
       "      <td>2019-12-29</td>\n",
       "      <td>37</td>\n",
       "    </tr>\n",
       "    <tr>\n",
       "      <th>2</th>\n",
       "      <td>2019-12-30</td>\n",
       "      <td>59</td>\n",
       "    </tr>\n",
       "    <tr>\n",
       "      <th>3</th>\n",
       "      <td>2019-12-31</td>\n",
       "      <td>47</td>\n",
       "    </tr>\n",
       "    <tr>\n",
       "      <th>4</th>\n",
       "      <td>2020-01-01</td>\n",
       "      <td>104</td>\n",
       "    </tr>\n",
       "    <tr>\n",
       "      <th>...</th>\n",
       "      <td>...</td>\n",
       "      <td>...</td>\n",
       "    </tr>\n",
       "    <tr>\n",
       "      <th>360</th>\n",
       "      <td>2020-12-25</td>\n",
       "      <td>39</td>\n",
       "    </tr>\n",
       "    <tr>\n",
       "      <th>361</th>\n",
       "      <td>2020-12-26</td>\n",
       "      <td>23</td>\n",
       "    </tr>\n",
       "    <tr>\n",
       "      <th>362</th>\n",
       "      <td>2020-12-27</td>\n",
       "      <td>47</td>\n",
       "    </tr>\n",
       "    <tr>\n",
       "      <th>363</th>\n",
       "      <td>2020-12-28</td>\n",
       "      <td>29</td>\n",
       "    </tr>\n",
       "    <tr>\n",
       "      <th>364</th>\n",
       "      <td>2020-12-29</td>\n",
       "      <td>22</td>\n",
       "    </tr>\n",
       "  </tbody>\n",
       "</table>\n",
       "<p>365 rows × 2 columns</p>\n",
       "</div>"
      ],
      "text/plain": [
       "     streamDate  id_stream\n",
       "0    2019-12-28          1\n",
       "1    2019-12-29         37\n",
       "2    2019-12-30         59\n",
       "3    2019-12-31         47\n",
       "4    2020-01-01        104\n",
       "..          ...        ...\n",
       "360  2020-12-25         39\n",
       "361  2020-12-26         23\n",
       "362  2020-12-27         47\n",
       "363  2020-12-28         29\n",
       "364  2020-12-29         22\n",
       "\n",
       "[365 rows x 2 columns]"
      ]
     },
     "execution_count": 173,
     "metadata": {},
     "output_type": "execute_result"
    }
   ],
   "source": [
    "df_count_date = df_clean.groupby('streamDate')['id_stream'].count().reset_index()\n",
    "df_count_date"
   ]
  },
  {
   "cell_type": "code",
   "execution_count": 178,
   "metadata": {},
   "outputs": [
    {
     "data": {
      "text/plain": [
       "<matplotlib.axes._subplots.AxesSubplot at 0x12b3e8ce288>"
      ]
     },
     "execution_count": 178,
     "metadata": {},
     "output_type": "execute_result"
    },
    {
     "data": {
      "image/png": "[encoded data removed]",
      "text/plain": [
       "<Figure size 1440x720 with 1 Axes>"
      ]
     },
     "metadata": {},
     "output_type": "display_data"
    }
   ],
   "source": [
    "fig = plt.figure(figsize = (20,10))\n",
    "sns.lineplot(data = df_count_date,x = 'streamDate', y = 'id_stream')"
   ]
  },
  {
   "cell_type": "code",
   "execution_count": 198,
   "metadata": {},
   "outputs": [
    {
     "data": {
      "text/plain": [
       "<matplotlib.axes._subplots.AxesSubplot at 0x12b3ca37488>"
      ]
     },
     "execution_count": 198,
     "metadata": {},
     "output_type": "execute_result"
    },
    {
     "data": {
      "image/png": "[encoded data removed]",
      "text/plain": [
       "<Figure size 432x288 with 1 Axes>"
      ]
     },
     "metadata": {},
     "output_type": "display_data"
    }
   ],
   "source": [
    "plot_month = df_clean.groupby('streamMonth')['id_stream'].count().reset_index()\n",
    "\n",
    "sns.barplot(data = plot_month,x = 'streamMonth', y = 'id_stream', palette = 'coolwarm')"
   ]
  },
  {
   "cell_type": "code",
   "execution_count": null,
   "metadata": {},
   "outputs": [],
   "source": []
  },
  {
   "cell_type": "code",
   "execution_count": 98,
   "metadata": {},
   "outputs": [
    {
     "name": "stderr",
     "output_type": "stream",
     "text": [
      "C:\\Users\\franc\\anaconda3\\lib\\site-packages\\ipykernel_launcher.py:1: FutureWarning: Indexing with multiple keys (implicitly converted to a tuple of keys) will be deprecated, use a list instead.\n",
      "  \"\"\"Entry point for launching an IPython kernel.\n"
     ]
    },
    {
     "data": {
      "text/plain": [
       "[<matplotlib.lines.Line2D at 0x20bfabd3288>]"
      ]
     },
     "execution_count": 98,
     "metadata": {},
     "output_type": "execute_result"
    },
    {
     "data": {
      "image/png": "[encoded data removed]",
      "text/plain": [
       "<Figure size 432x288 with 1 Axes>"
      ]
     },
     "metadata": {
      "needs_background": "light"
     },
     "output_type": "display_data"
    }
   ],
   "source": [
    "plot_month = df_clean.groupby(['streamMonth'])['valence', 'energy'].mean().reset_index()\n",
    "plot_month\n",
    "\n",
    "plt.plot(plot_month['valence'])\n",
    "plt.plot(plot_month['energy'])"
   ]
  },
  {
   "cell_type": "code",
   "execution_count": null,
   "metadata": {},
   "outputs": [],
   "source": []
  }
 ],
 "metadata": {
  "kernelspec": {
   "display_name": "Python 3",
   "language": "python",
   "name": "python3"
  },
  "language_info": {
   "codemirror_mode": {
    "name": "ipython",
    "version": 3
   },
   "file_extension": ".py",
   "mimetype": "text/x-python",
   "name": "python",
   "nbconvert_exporter": "python",
   "pygments_lexer": "ipython3",
   "version": "3.7.6"
  }
 },
 "nbformat": 4,
 "nbformat_minor": 4
}
